{
  "nbformat": 4,
  "nbformat_minor": 0,
  "metadata": {
    "colab": {
      "provenance": [],
      "authorship_tag": "ABX9TyMy9ng/XoEfENpf99dg/Fep",
      "include_colab_link": true
    },
    "kernelspec": {
      "name": "python3",
      "display_name": "Python 3"
    },
    "language_info": {
      "name": "python"
    }
  },
  "cells": [
    {
      "cell_type": "markdown",
      "metadata": {
        "id": "view-in-github",
        "colab_type": "text"
      },
      "source": [
        "<a href=\"https://colab.research.google.com/github/yudits10/Text-Mining-Social-Media-Analytics/blob/main/Text_Mining_Social_Media_Analytics.ipynb\" target=\"_parent\"><img src=\"https://colab.research.google.com/assets/colab-badge.svg\" alt=\"Open In Colab\"/></a>"
      ]
    },
    {
      "cell_type": "code",
      "execution_count": 4,
      "metadata": {
        "id": "ttakQyOEnGZR"
      },
      "outputs": [],
      "source": [
        "# library import\n",
        "import pandas as pd"
      ]
    },
    {
      "cell_type": "code",
      "source": [
        "# data import\n",
        "\n",
        "from google.colab import drive\n",
        "drive.mount('/content/gdrive')\n",
        "\n",
        "%cd /content/gdrive/My Drive\n",
        "!ls\n",
        "\n",
        "tweets_biden = pd.read_csv(\"C:/Users/asus/Downloads/hashtag_joebiden.csv\",\n",
        "                           lineterminator='\\n',\n",
        "                           parse_dates = True)\n",
        "tweets_trump = pd.read_csv(\"C:/Users/asus/Downloads/hashtag_donaldtrump.csv\",\n",
        "                           lineterminator='\\n',\n",
        "                           parse_dates = True)\n",
        "\n",
        "# Ameryka to Ameryka\n",
        "tweets_biden['country'].replace({'United States':'United States of America'}, inplace = True)\n",
        "tweets_trump['country'].replace({'United States':'United States of America'}, inplace = True)\n",
        ""
      ],
      "metadata": {
        "colab": {
          "base_uri": "https://localhost:8080/",
          "height": 1000
        },
        "id": "Yy5wnVj2oPXJ",
        "outputId": "331815ba-e57c-4fb6-baca-6e2aa2ec96ab"
      },
      "execution_count": 16,
      "outputs": [
        {
          "output_type": "stream",
          "name": "stdout",
          "text": [
            "Drive already mounted at /content/gdrive; to attempt to forcibly remount, call drive.mount(\"/content/gdrive\", force_remount=True).\n",
            "/content/gdrive/My Drive\n",
            "'022 HousePrices-Dataset2.gsheet'\n",
            "'02_DOKUMEN SWAKELOLA.pdf'\n",
            " 09-November-2023\n",
            "'10220002K Yudit Septia Pratama.pdf'\n",
            "'10220002_Yudit Septia Pratama - UAS Manajemen Basis Data.pdf'\n",
            " 16052770855053803690519535252802.jpg\n",
            " 16052771677322479933384808330163.jpg\n",
            " 16052772084877123939637372822255.jpg\n",
            " 20-Oktober-2023\n",
            " 21-September\n",
            " 5-Oktober\n",
            "'Analisis dan Desain Algoritma P4.gslides'\n",
            "'BAB 5 (1).pdf'\n",
            "'BAB 5 (2).pdf'\n",
            "'BAB 5.pdf'\n",
            "'bab 6.pdf'\n",
            "'bab 7.pdf'\n",
            "'BNBA CADANGAN.xlsx'\n",
            "'BNBA UTAMA.xlsx'\n",
            " butab.pdf\n",
            " chatbot.txt\n",
            " Classroom\n",
            "'Colab Notebooks'\n",
            "'creditapproval (1).gsheet'\n",
            "'creditapproval (2).gsheet'\n",
            " creditapproval.gsheet\n",
            "'Daily Activity.docx'\n",
            "'Diktat Kuliah Dasar Pemrograman.gdoc'\n",
            "'DOKUMEN PERSIAPAN.pdf'\n",
            "'Filsafat Pancasila.docx'\n",
            "'FOTO PERANGKAT DESA'\n",
            "'Gambar WhatsApp 2023-07-08 pukul 07.40.25.jpg'\n",
            "'Gambar WhatsApp 2023-07-08 pukul 07.46.31.jpg'\n",
            " ggggg.jpg\n",
            " ijazah.pdf\n",
            " IMG-20230830-WA0006.jpg\n",
            " IMG-20231224-WA0019.jpg\n",
            " IMG-20231224-WA0022.jpg\n",
            " IMG-20231224-WA0025.jpg\n",
            " IMG-20231224-WA0029.jpg\n",
            " IMG-20231224-WA0034.jpg\n",
            " IMG-20231224-WA0040.jpg\n",
            " IMG-20231224-WA0044.jpg\n",
            " IMG-20231224-WA0046.jpg\n",
            " IMG-20231224-WA0049.jpg\n",
            " IMG-20231224-WA0052.jpg\n",
            " IMG-20231224-WA0054.jpg\n",
            " IMG-20231224-WA0056.jpg\n",
            " IMG-20231224-WA0060.jpg\n",
            " IMG-20231224-WA0062.jpg\n",
            " IMG-20231224-WA0064.jpg\n",
            " IMG-20231224-WA0066.jpg\n",
            " IMG-20231224-WA0068.jpg\n",
            " IMG-20231224-WA0070.jpg\n",
            " IMG-20231224-WA0074.jpg\n",
            " IMG-20231224-WA0077.jpg\n",
            " IMG-20231224-WA0079.jpg\n",
            " IMG-20231224-WA0081.jpg\n",
            " IMG-20231224-WA0083.jpg\n",
            " IMG-20231224-WA0085.jpg\n",
            " IMG-20231224-WA0087.jpg\n",
            " IMG-20231224-WA0089.jpg\n",
            " IMG-20231224-WA0091.jpg\n",
            " IMG-20231224-WA0093.jpg\n",
            " IMG-20231224-WA0095.jpg\n",
            " IMG-20231224-WA0097.jpg\n",
            " IMG-20231224-WA0099.jpg\n",
            " IMG-20231224-WA0100.jpg\n",
            " IMG-20231224-WA0102.jpg\n",
            " IMG-20231225-WA0003.jpg\n",
            " IMG-20231225-WA0028.jpg\n",
            " IMG-20231225-WA0029.jpg\n",
            " IMG-20231225-WA0030.jpg\n",
            " IMG-20231226-WA0003.jpg\n",
            " IMG-20231226-WA0005.jpg\n",
            " IMG-20231226-WA0006.jpg\n",
            "'(ISC)² CISSP Certified Information Systems Security Professional Official Study Guide 8th ed.docx'\n",
            "'KUESIONER UNTUK APLIKASI TUGAS BESAR ONLINE.gform'\n",
            "'KUESIONER UNTUK APLIKASI TUGAS BESAR ONLINE (Responses).gsheet'\n",
            "'LAMPIRAN BNBA PM CADANGAN.pdf'\n",
            "'LAMPIRAN BNBA PM UTAMA.pdf'\n",
            "'LPJ 1 & 2.pdf'\n",
            "'LPJ BULAN KE 1.pdf'\n",
            "'PERANGKAT DESA SINGAPARNA TEACHABLE.tm'\n",
            "'SK Pokmas.pdf'\n",
            " tripadvisor_hotel_reviews.csv\n",
            "'TUGAS AQIDAH 1.pptx'\n",
            "'TUGAS BAHASA INDONESIA 1 (1).docx'\n",
            "'TUGAS BAHASA INDONESIA 1.docx'\n",
            "'TUGAS BAHASA INDONESIA 1.pdf'\n",
            "'Tugas B. Indonesia (Tanda Baca).docx'\n",
            "'TUGAS DASAR PEMROGRAMAN 1 (1).pptm'\n",
            "'TUGAS DASAR PEMROGRAMAN 1 (2).pptm'\n",
            "'TUGAS DASAR PEMROGRAMAN 1.pptm'\n",
            "'Tugas KWU 4 Startup.docx'\n",
            "'Tugas Pancasila pertemuan 4.docx'\n",
            "'TUGAS PENGANTAR REKAYASA DASAIN 1 (1).pptx'\n",
            "'TUGAS PENGANTAR REKAYASA DASAIN 1 (2).pptx'\n",
            "'TUGAS PENGANTAR REKAYASA DASAIN 1.pptx'\n",
            "'Tugas Program Komputer.docx'\n",
            "'Tugas Prokom Praktikum (1).docx'\n",
            "'Tugas Prokom Praktikum.docx'\n",
            "'TUGAS RESUME MANAJEMEN MEMORY.pdf'\n",
            "'Tugas Soal Pengantar Rekayasa Desain.pptx'\n",
            "'TUGAS (YUDIT SEPTIA PRATAMA)_Page_02.jpg'\n",
            "'TUGAS (YUDIT SEPTIA PRATAMA)_Page_06.jpg'\n",
            " uts2\n",
            "'UTS Kecerdasan Buatan.gdoc'\n",
            " VaccineTweet2023.ipynb\n",
            " Vagrant\n",
            "'WhatsApp Image 2023-12-24 at 20.31.12_8c00692c.jpg'\n",
            "'WhatsApp Image 2023-12-26 at 23.46.38_b6400ddf.jpg'\n"
          ]
        },
        {
          "output_type": "error",
          "ename": "FileNotFoundError",
          "evalue": "ignored",
          "traceback": [
            "\u001b[0;31m---------------------------------------------------------------------------\u001b[0m",
            "\u001b[0;31mFileNotFoundError\u001b[0m                         Traceback (most recent call last)",
            "\u001b[0;32m<ipython-input-16-9c8ee9d86e2a>\u001b[0m in \u001b[0;36m<cell line: 9>\u001b[0;34m()\u001b[0m\n\u001b[1;32m      7\u001b[0m \u001b[0mget_ipython\u001b[0m\u001b[0;34m(\u001b[0m\u001b[0;34m)\u001b[0m\u001b[0;34m.\u001b[0m\u001b[0msystem\u001b[0m\u001b[0;34m(\u001b[0m\u001b[0;34m'ls'\u001b[0m\u001b[0;34m)\u001b[0m\u001b[0;34m\u001b[0m\u001b[0;34m\u001b[0m\u001b[0m\n\u001b[1;32m      8\u001b[0m \u001b[0;34m\u001b[0m\u001b[0m\n\u001b[0;32m----> 9\u001b[0;31m tweets_biden = pd.read_csv(\"C:/Users/asus/Downloads/hashtag_joebiden.csv\",\n\u001b[0m\u001b[1;32m     10\u001b[0m                            \u001b[0mlineterminator\u001b[0m\u001b[0;34m=\u001b[0m\u001b[0;34m'\\n'\u001b[0m\u001b[0;34m,\u001b[0m\u001b[0;34m\u001b[0m\u001b[0;34m\u001b[0m\u001b[0m\n\u001b[1;32m     11\u001b[0m                            parse_dates = True)\n",
            "\u001b[0;32m/usr/local/lib/python3.10/dist-packages/pandas/util/_decorators.py\u001b[0m in \u001b[0;36mwrapper\u001b[0;34m(*args, **kwargs)\u001b[0m\n\u001b[1;32m    209\u001b[0m                 \u001b[0;32melse\u001b[0m\u001b[0;34m:\u001b[0m\u001b[0;34m\u001b[0m\u001b[0;34m\u001b[0m\u001b[0m\n\u001b[1;32m    210\u001b[0m                     \u001b[0mkwargs\u001b[0m\u001b[0;34m[\u001b[0m\u001b[0mnew_arg_name\u001b[0m\u001b[0;34m]\u001b[0m \u001b[0;34m=\u001b[0m \u001b[0mnew_arg_value\u001b[0m\u001b[0;34m\u001b[0m\u001b[0;34m\u001b[0m\u001b[0m\n\u001b[0;32m--> 211\u001b[0;31m             \u001b[0;32mreturn\u001b[0m \u001b[0mfunc\u001b[0m\u001b[0;34m(\u001b[0m\u001b[0;34m*\u001b[0m\u001b[0margs\u001b[0m\u001b[0;34m,\u001b[0m \u001b[0;34m**\u001b[0m\u001b[0mkwargs\u001b[0m\u001b[0;34m)\u001b[0m\u001b[0;34m\u001b[0m\u001b[0;34m\u001b[0m\u001b[0m\n\u001b[0m\u001b[1;32m    212\u001b[0m \u001b[0;34m\u001b[0m\u001b[0m\n\u001b[1;32m    213\u001b[0m         \u001b[0;32mreturn\u001b[0m \u001b[0mcast\u001b[0m\u001b[0;34m(\u001b[0m\u001b[0mF\u001b[0m\u001b[0;34m,\u001b[0m \u001b[0mwrapper\u001b[0m\u001b[0;34m)\u001b[0m\u001b[0;34m\u001b[0m\u001b[0;34m\u001b[0m\u001b[0m\n",
            "\u001b[0;32m/usr/local/lib/python3.10/dist-packages/pandas/util/_decorators.py\u001b[0m in \u001b[0;36mwrapper\u001b[0;34m(*args, **kwargs)\u001b[0m\n\u001b[1;32m    329\u001b[0m                     \u001b[0mstacklevel\u001b[0m\u001b[0;34m=\u001b[0m\u001b[0mfind_stack_level\u001b[0m\u001b[0;34m(\u001b[0m\u001b[0;34m)\u001b[0m\u001b[0;34m,\u001b[0m\u001b[0;34m\u001b[0m\u001b[0;34m\u001b[0m\u001b[0m\n\u001b[1;32m    330\u001b[0m                 )\n\u001b[0;32m--> 331\u001b[0;31m             \u001b[0;32mreturn\u001b[0m \u001b[0mfunc\u001b[0m\u001b[0;34m(\u001b[0m\u001b[0;34m*\u001b[0m\u001b[0margs\u001b[0m\u001b[0;34m,\u001b[0m \u001b[0;34m**\u001b[0m\u001b[0mkwargs\u001b[0m\u001b[0;34m)\u001b[0m\u001b[0;34m\u001b[0m\u001b[0;34m\u001b[0m\u001b[0m\n\u001b[0m\u001b[1;32m    332\u001b[0m \u001b[0;34m\u001b[0m\u001b[0m\n\u001b[1;32m    333\u001b[0m         \u001b[0;31m# error: \"Callable[[VarArg(Any), KwArg(Any)], Any]\" has no\u001b[0m\u001b[0;34m\u001b[0m\u001b[0;34m\u001b[0m\u001b[0m\n",
            "\u001b[0;32m/usr/local/lib/python3.10/dist-packages/pandas/io/parsers/readers.py\u001b[0m in \u001b[0;36mread_csv\u001b[0;34m(filepath_or_buffer, sep, delimiter, header, names, index_col, usecols, squeeze, prefix, mangle_dupe_cols, dtype, engine, converters, true_values, false_values, skipinitialspace, skiprows, skipfooter, nrows, na_values, keep_default_na, na_filter, verbose, skip_blank_lines, parse_dates, infer_datetime_format, keep_date_col, date_parser, dayfirst, cache_dates, iterator, chunksize, compression, thousands, decimal, lineterminator, quotechar, quoting, doublequote, escapechar, comment, encoding, encoding_errors, dialect, error_bad_lines, warn_bad_lines, on_bad_lines, delim_whitespace, low_memory, memory_map, float_precision, storage_options)\u001b[0m\n\u001b[1;32m    948\u001b[0m     \u001b[0mkwds\u001b[0m\u001b[0;34m.\u001b[0m\u001b[0mupdate\u001b[0m\u001b[0;34m(\u001b[0m\u001b[0mkwds_defaults\u001b[0m\u001b[0;34m)\u001b[0m\u001b[0;34m\u001b[0m\u001b[0;34m\u001b[0m\u001b[0m\n\u001b[1;32m    949\u001b[0m \u001b[0;34m\u001b[0m\u001b[0m\n\u001b[0;32m--> 950\u001b[0;31m     \u001b[0;32mreturn\u001b[0m \u001b[0m_read\u001b[0m\u001b[0;34m(\u001b[0m\u001b[0mfilepath_or_buffer\u001b[0m\u001b[0;34m,\u001b[0m \u001b[0mkwds\u001b[0m\u001b[0;34m)\u001b[0m\u001b[0;34m\u001b[0m\u001b[0;34m\u001b[0m\u001b[0m\n\u001b[0m\u001b[1;32m    951\u001b[0m \u001b[0;34m\u001b[0m\u001b[0m\n\u001b[1;32m    952\u001b[0m \u001b[0;34m\u001b[0m\u001b[0m\n",
            "\u001b[0;32m/usr/local/lib/python3.10/dist-packages/pandas/io/parsers/readers.py\u001b[0m in \u001b[0;36m_read\u001b[0;34m(filepath_or_buffer, kwds)\u001b[0m\n\u001b[1;32m    603\u001b[0m \u001b[0;34m\u001b[0m\u001b[0m\n\u001b[1;32m    604\u001b[0m     \u001b[0;31m# Create the parser.\u001b[0m\u001b[0;34m\u001b[0m\u001b[0;34m\u001b[0m\u001b[0m\n\u001b[0;32m--> 605\u001b[0;31m     \u001b[0mparser\u001b[0m \u001b[0;34m=\u001b[0m \u001b[0mTextFileReader\u001b[0m\u001b[0;34m(\u001b[0m\u001b[0mfilepath_or_buffer\u001b[0m\u001b[0;34m,\u001b[0m \u001b[0;34m**\u001b[0m\u001b[0mkwds\u001b[0m\u001b[0;34m)\u001b[0m\u001b[0;34m\u001b[0m\u001b[0;34m\u001b[0m\u001b[0m\n\u001b[0m\u001b[1;32m    606\u001b[0m \u001b[0;34m\u001b[0m\u001b[0m\n\u001b[1;32m    607\u001b[0m     \u001b[0;32mif\u001b[0m \u001b[0mchunksize\u001b[0m \u001b[0;32mor\u001b[0m \u001b[0miterator\u001b[0m\u001b[0;34m:\u001b[0m\u001b[0;34m\u001b[0m\u001b[0;34m\u001b[0m\u001b[0m\n",
            "\u001b[0;32m/usr/local/lib/python3.10/dist-packages/pandas/io/parsers/readers.py\u001b[0m in \u001b[0;36m__init__\u001b[0;34m(self, f, engine, **kwds)\u001b[0m\n\u001b[1;32m   1440\u001b[0m \u001b[0;34m\u001b[0m\u001b[0m\n\u001b[1;32m   1441\u001b[0m         \u001b[0mself\u001b[0m\u001b[0;34m.\u001b[0m\u001b[0mhandles\u001b[0m\u001b[0;34m:\u001b[0m \u001b[0mIOHandles\u001b[0m \u001b[0;34m|\u001b[0m \u001b[0;32mNone\u001b[0m \u001b[0;34m=\u001b[0m \u001b[0;32mNone\u001b[0m\u001b[0;34m\u001b[0m\u001b[0;34m\u001b[0m\u001b[0m\n\u001b[0;32m-> 1442\u001b[0;31m         \u001b[0mself\u001b[0m\u001b[0;34m.\u001b[0m\u001b[0m_engine\u001b[0m \u001b[0;34m=\u001b[0m \u001b[0mself\u001b[0m\u001b[0;34m.\u001b[0m\u001b[0m_make_engine\u001b[0m\u001b[0;34m(\u001b[0m\u001b[0mf\u001b[0m\u001b[0;34m,\u001b[0m \u001b[0mself\u001b[0m\u001b[0;34m.\u001b[0m\u001b[0mengine\u001b[0m\u001b[0;34m)\u001b[0m\u001b[0;34m\u001b[0m\u001b[0;34m\u001b[0m\u001b[0m\n\u001b[0m\u001b[1;32m   1443\u001b[0m \u001b[0;34m\u001b[0m\u001b[0m\n\u001b[1;32m   1444\u001b[0m     \u001b[0;32mdef\u001b[0m \u001b[0mclose\u001b[0m\u001b[0;34m(\u001b[0m\u001b[0mself\u001b[0m\u001b[0;34m)\u001b[0m \u001b[0;34m->\u001b[0m \u001b[0;32mNone\u001b[0m\u001b[0;34m:\u001b[0m\u001b[0;34m\u001b[0m\u001b[0;34m\u001b[0m\u001b[0m\n",
            "\u001b[0;32m/usr/local/lib/python3.10/dist-packages/pandas/io/parsers/readers.py\u001b[0m in \u001b[0;36m_make_engine\u001b[0;34m(self, f, engine)\u001b[0m\n\u001b[1;32m   1733\u001b[0m                 \u001b[0;32mif\u001b[0m \u001b[0;34m\"b\"\u001b[0m \u001b[0;32mnot\u001b[0m \u001b[0;32min\u001b[0m \u001b[0mmode\u001b[0m\u001b[0;34m:\u001b[0m\u001b[0;34m\u001b[0m\u001b[0;34m\u001b[0m\u001b[0m\n\u001b[1;32m   1734\u001b[0m                     \u001b[0mmode\u001b[0m \u001b[0;34m+=\u001b[0m \u001b[0;34m\"b\"\u001b[0m\u001b[0;34m\u001b[0m\u001b[0;34m\u001b[0m\u001b[0m\n\u001b[0;32m-> 1735\u001b[0;31m             self.handles = get_handle(\n\u001b[0m\u001b[1;32m   1736\u001b[0m                 \u001b[0mf\u001b[0m\u001b[0;34m,\u001b[0m\u001b[0;34m\u001b[0m\u001b[0;34m\u001b[0m\u001b[0m\n\u001b[1;32m   1737\u001b[0m                 \u001b[0mmode\u001b[0m\u001b[0;34m,\u001b[0m\u001b[0;34m\u001b[0m\u001b[0;34m\u001b[0m\u001b[0m\n",
            "\u001b[0;32m/usr/local/lib/python3.10/dist-packages/pandas/io/common.py\u001b[0m in \u001b[0;36mget_handle\u001b[0;34m(path_or_buf, mode, encoding, compression, memory_map, is_text, errors, storage_options)\u001b[0m\n\u001b[1;32m    854\u001b[0m         \u001b[0;32mif\u001b[0m \u001b[0mioargs\u001b[0m\u001b[0;34m.\u001b[0m\u001b[0mencoding\u001b[0m \u001b[0;32mand\u001b[0m \u001b[0;34m\"b\"\u001b[0m \u001b[0;32mnot\u001b[0m \u001b[0;32min\u001b[0m \u001b[0mioargs\u001b[0m\u001b[0;34m.\u001b[0m\u001b[0mmode\u001b[0m\u001b[0;34m:\u001b[0m\u001b[0;34m\u001b[0m\u001b[0;34m\u001b[0m\u001b[0m\n\u001b[1;32m    855\u001b[0m             \u001b[0;31m# Encoding\u001b[0m\u001b[0;34m\u001b[0m\u001b[0;34m\u001b[0m\u001b[0m\n\u001b[0;32m--> 856\u001b[0;31m             handle = open(\n\u001b[0m\u001b[1;32m    857\u001b[0m                 \u001b[0mhandle\u001b[0m\u001b[0;34m,\u001b[0m\u001b[0;34m\u001b[0m\u001b[0;34m\u001b[0m\u001b[0m\n\u001b[1;32m    858\u001b[0m                 \u001b[0mioargs\u001b[0m\u001b[0;34m.\u001b[0m\u001b[0mmode\u001b[0m\u001b[0;34m,\u001b[0m\u001b[0;34m\u001b[0m\u001b[0;34m\u001b[0m\u001b[0m\n",
            "\u001b[0;31mFileNotFoundError\u001b[0m: [Errno 2] No such file or directory: 'C:/Users/asus/Downloads/hashtag_joebiden.csv'"
          ]
        }
      ]
    }
  ]
}